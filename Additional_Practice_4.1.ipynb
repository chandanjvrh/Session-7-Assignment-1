{
 "cells": [
  {
   "cell_type": "markdown",
   "metadata": {},
   "source": [
    "1)Given a sequence of n values x1, x2, ..., xn and a window size k>0, the k-th moving\n",
    "average of the given sequence is defined as follows:\n",
    "The moving average sequence has n-k+1 elements as shown below.\n",
    "The moving averages with k=4 of a ten-value sequence (n=10) is shown below\n",
    " i 1 2 3 4 5 6 7 8 9 10\n",
    "===== == == == == == == == == == ==\n",
    "Input 10 20 30 40 50 60 70 80 90 100\n",
    "\n",
    "y1 25 = (10+20+30+40)/4\n",
    "y2 35 = (20+30+40+50)/4\n",
    "y3 45 = (30+40+50+60)/4\n",
    "y4 55 = (40+50+60+70)/4\n",
    "y5 65 = (50+60+70+80)/4\n",
    "y6 75 = (60+70+80+90)/4\n",
    "y7 85 = (70+80+90+100)/4\n",
    "\n",
    "Thus, the moving average sequence has n-k+1=10-4+1=7 values.\n",
    "\n",
    "Problem Statement\n",
    "Write a function to find moving average in an array over a window:\n",
    "Test it over [3, 5, 7, 2, 8, 10, 11, 65, 72, 81, 99, 100, 150] and window of 3."
   ]
  },
  {
   "cell_type": "code",
   "execution_count": 1,
   "metadata": {},
   "outputs": [
    {
     "name": "stdout",
     "output_type": "stream",
     "text": [
      "y1 5.0=(3+5+7+)/3\n",
      "y2  4.666666666666667=(5+7+2+)/3\n",
      "y3   5.666666666666667=(7+2+8+)/3\n",
      "y4    6.666666666666667=(2+8+10+)/3\n",
      "y5     9.666666666666666=(8+10+11+)/3\n",
      "y6      28.666666666666668=(10+11+65+)/3\n",
      "y7       49.333333333333336=(11+65+72+)/3\n",
      "y8        72.66666666666667=(65+72+81+)/3\n",
      "y9         84.0=(72+81+99+)/3\n",
      "y10          93.33333333333333=(81+99+100+)/3\n",
      "y11           116.33333333333333=(99+100+150+)/3\n"
     ]
    }
   ],
   "source": [
    "import numpy as np\n",
    "inp=[3, 5, 7, 2, 8, 10, 11, 65, 72, 81, 99, 100, 150]\n",
    "k=3\n",
    "no_val=13-3+1\n",
    "\n",
    "for i in range(no_val):\n",
    "    val=(inp[i]+inp[i+1]+inp[i+2])/k\n",
    "    print('y'+ str(i+1) + (' '*(i+1))+str(val)+'='+'('+str(inp[i])+'+'+str(inp[i+1])+'+'+str(inp[i+2])+'+'\n",
    "          + ')/'+str(k))    "
   ]
  }
 ],
 "metadata": {
  "kernelspec": {
   "display_name": "Python 3",
   "language": "python",
   "name": "python3"
  },
  "language_info": {
   "codemirror_mode": {
    "name": "ipython",
    "version": 3
   },
   "file_extension": ".py",
   "mimetype": "text/x-python",
   "name": "python",
   "nbconvert_exporter": "python",
   "pygments_lexer": "ipython3",
   "version": "3.7.0"
  }
 },
 "nbformat": 4,
 "nbformat_minor": 2
}
